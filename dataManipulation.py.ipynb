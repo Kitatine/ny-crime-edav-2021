{
 "cells": [
  {
   "cell_type": "code",
   "execution_count": 34,
   "id": "627af864",
   "metadata": {},
   "outputs": [],
   "source": [
    "import pandas as pd\n",
    "import numpy as np\n",
    "\n",
    "import seaborn as sns\n",
    "import matplotlib.pylab as plt\n",
    "\n",
    "sns.set_style('darkgrid')\n",
    "\n",
    "%matplotlib inline"
   ]
  },
  {
   "cell_type": "code",
   "execution_count": 93,
   "id": "85bbb6e5",
   "metadata": {},
   "outputs": [],
   "source": [
    "crime = pd.read_csv('data/NYPD_Arrests_Data__Historic_.csv')"
   ]
  },
  {
   "cell_type": "code",
   "execution_count": 50,
   "id": "bc1a450e",
   "metadata": {},
   "outputs": [],
   "source": [
    "crime_ytd = pd.read_csv('data/NYPD_Arrest_Data__Year_to_Date_.csv')"
   ]
  },
  {
   "cell_type": "code",
   "execution_count": 102,
   "id": "f5378b51",
   "metadata": {},
   "outputs": [],
   "source": [
    "# crime_ytd = crime_ytd.loc[:,['ARREST_DATE', 'OFNS_DESC']]\n",
    "crime_total = crime.loc[:,['ARREST_DATE']]\n",
    "crime_total['date']=pd.to_datetime(crime_total['ARREST_DATE'])\n",
    "crime_total = crime_total.groupby(pd.Grouper(key = 'date', freq='M')).count()\n"
   ]
  },
  {
   "cell_type": "code",
   "execution_count": 104,
   "id": "0639ae11",
   "metadata": {},
   "outputs": [
    {
     "data": {
      "text/plain": [
       "Index(['date', 'ARREST_DATE'], dtype='object')"
      ]
     },
     "execution_count": 104,
     "metadata": {},
     "output_type": "execute_result"
    }
   ],
   "source": [
    "crime_total.reset_index(inplace=True)\n",
    "crime_total['date'] = crime_total['date'].dt.strftime('%B-%Y')\n",
    "crime_total.columns"
   ]
  },
  {
   "cell_type": "code",
   "execution_count": 119,
   "id": "35801d0a",
   "metadata": {},
   "outputs": [],
   "source": [
    "crime_total.rename({'ARREST_DATE': 'high'}, axis=1, inplace=True)\n",
    "\n",
    "# df.set_index('Date_Time').groupby(pd.Grouper(freq='D')).mean()"
   ]
  },
  {
   "cell_type": "code",
   "execution_count": 192,
   "id": "6551b44b",
   "metadata": {},
   "outputs": [],
   "source": [
    "# create a df with counts of input df rows grouped by input feature_name\n",
    "def frequent_by_month(df, date_feature_name):\n",
    "    df = df.loc[:,[date_feature_name]]\n",
    "    df['date']=pd.to_datetime(df[date_feature_name])\n",
    "    df = df.groupby(pd.Grouper(key = 'date', freq='M')).count()\n",
    "    # reset index\n",
    "    df.reset_index(inplace=True)\n",
    "    df.rename({date_feature_name: 'high'}, axis=1, inplace=True)\n",
    "    # strftime formatting: https://strftime.org/\n",
    "    df['date'] = df['date'].dt.strftime('%b-%y')\n",
    "    return df \n",
    "\n",
    "total_freq = frequent_by_month(crime, 'ARREST_DATE')"
   ]
  },
  {
   "cell_type": "code",
   "execution_count": 214,
   "id": "a41d4eb4",
   "metadata": {},
   "outputs": [
    {
     "data": {
      "text/plain": [
       "(       date   high\n",
       " 144  Jan-18  23882\n",
       " 145  Feb-18  21724\n",
       " 146  Mar-18  22462\n",
       " 147  Apr-18  21327\n",
       " 148  May-18  22036\n",
       " 149  Jun-18  19612\n",
       " 150  Jul-18  20875\n",
       " 151  Aug-18  21380\n",
       " 152  Sep-18  18518\n",
       " 153  Oct-18  19554\n",
       " 154  Nov-18  18002\n",
       " 155  Dec-18  17401\n",
       " 156  Jan-19  20091\n",
       " 157  Feb-19  17692\n",
       " 158  Mar-19  19672\n",
       " 159  Apr-19  19197\n",
       " 160  May-19  19553\n",
       " 161  Jun-19  17444\n",
       " 162  Jul-19  19577\n",
       " 163  Aug-19  18083\n",
       " 164  Sep-19  16656\n",
       " 165  Oct-19  17469\n",
       " 166  Nov-19  15546\n",
       " 167  Dec-19  13637\n",
       " 168  Jan-20  16171\n",
       " 169  Feb-20  15472\n",
       " 170  Mar-20  13179\n",
       " 171  Apr-20   8295\n",
       " 172  May-20  13581\n",
       " 173  Jun-20   8083\n",
       " 174  Jul-20   7461\n",
       " 175  Aug-20   9828\n",
       " 176  Sep-20  11304\n",
       " 177  Oct-20  13027\n",
       " 178  Nov-20  11467\n",
       " 179  Dec-20  12545,\n",
       " 23882,\n",
       " 7461)"
      ]
     },
     "execution_count": 214,
     "metadata": {},
     "output_type": "execute_result"
    }
   ],
   "source": [
    "total_freq_trimed = total_freq[-36:]\n",
    "lowest = max(total_freq_trimed['high'])\n",
    "total_freq_trimed, max(total_freq_trimed['high']), min(total_freq_trimed['high'])"
   ]
  },
  {
   "cell_type": "code",
   "execution_count": 204,
   "id": "e96947fc",
   "metadata": {},
   "outputs": [],
   "source": [
    "# total_freq.to_csv('data/cleaned/total_crime.csv', index=False) \n",
    "total_freq_trimed.to_json('data/cleaned/total_crime.json', orient=\"records\")\n",
    "# result.to_csv('data/cleaned/total_crime.csv', index=False) "
   ]
  },
  {
   "cell_type": "code",
   "execution_count": 129,
   "id": "0c08eb54",
   "metadata": {},
   "outputs": [
    {
     "data": {
      "text/plain": [
       "9066"
      ]
     },
     "execution_count": 129,
     "metadata": {},
     "output_type": "execute_result"
    }
   ],
   "source": [
    "pd.isna(crime['OFNS_DESC']).sum()"
   ]
  },
  {
   "cell_type": "code",
   "execution_count": 133,
   "id": "20a01399",
   "metadata": {},
   "outputs": [
    {
     "data": {
      "text/plain": [
       "0"
      ]
     },
     "execution_count": 133,
     "metadata": {},
     "output_type": "execute_result"
    }
   ],
   "source": [
    "crime_ofns = crime.loc[['OFNS_DESC', 'ARREST_DATE']]\n",
    "crime_ofns = crime_ofns.dropna(how='any')\n",
    "pd.isna(crime_ofns['OFNS_DESC']).sum()"
   ]
  },
  {
   "cell_type": "code",
   "execution_count": 147,
   "id": "8b1997df",
   "metadata": {},
   "outputs": [],
   "source": [
    "# np.unique(crime_ofns['OFNS_DESC'])\n",
    "# crime['OFNS_DESC']\n",
    "\n",
    "ofns_counts = crime.OFNS_DESC.value_counts(normalize=False)\n",
    "print(ofns_counts.shape)"
   ]
  },
  {
   "cell_type": "code",
   "execution_count": 220,
   "id": "1c66a107",
   "metadata": {},
   "outputs": [
    {
     "data": {
      "image/png": "[encoded data removed]",
      "text/plain": [
       "<Figure size 576x432 with 1 Axes>"
      ]
     },
     "metadata": {
      "needs_background": "light"
     },
     "output_type": "display_data"
    }
   ],
   "source": [
    "# visualize top 10 ofns frequency \n",
    "top_ofns = ofns_counts[:7]\n",
    "top_ofns.plot(kind='barh', figsize=(8, 6)).invert_yaxis()"
   ]
  },
  {
   "cell_type": "code",
   "execution_count": 219,
   "id": "ce62e4ad",
   "metadata": {},
   "outputs": [
    {
     "name": "stdout",
     "output_type": "stream",
     "text": [
      " min: 212  max: 3812\n",
      " min: 1516  max: 3145\n",
      " min: 361  max: 2705\n",
      " min: 0  max: 213\n",
      " min: 459  max: 2146\n",
      " min: 804  max: 1500\n",
      " min: 93  max: 2251\n"
     ]
    }
   ],
   "source": [
    "for ofns_category in ofns_counts[:7].index:\n",
    "    df_curr = crime.loc[crime['OFNS_DESC'] == ofns_category]\n",
    "    freq_by_ofns = frequent_by_month(df_curr, 'ARREST_DATE')[-36:]\n",
    "    filename = ofns_category.replace(\" \", '_').lower()\n",
    "    print(' min:', min(freq_by_ofns['high']), ' max:',  max(freq_by_ofns['high'] ))\n",
    "    freq_by_ofns.to_json(f'data/cleaned/{filename}.json', orient=\"records\")\n",
    "\n",
    "    "
   ]
  },
  {
   "cell_type": "code",
   "execution_count": null,
   "id": "00fffc17",
   "metadata": {},
   "outputs": [],
   "source": []
  },
  {
   "cell_type": "code",
   "execution_count": null,
   "id": "fbfb5179",
   "metadata": {},
   "outputs": [],
   "source": []
  }
 ],
 "metadata": {
  "kernelspec": {
   "display_name": "Python 3",
   "language": "python",
   "name": "python3"
  },
  "language_info": {
   "codemirror_mode": {
    "name": "ipython",
    "version": 3
   },
   "file_extension": ".py",
   "mimetype": "text/x-python",
   "name": "python",
   "nbconvert_exporter": "python",
   "pygments_lexer": "ipython3",
   "version": "3.8.8"
  }
 },
 "nbformat": 4,
 "nbformat_minor": 5
}
